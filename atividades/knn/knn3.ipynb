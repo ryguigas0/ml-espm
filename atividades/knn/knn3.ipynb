{
 "cells": [
  {
   "cell_type": "markdown",
   "metadata": {},
   "source": [
    "## Limpeza de dados"
   ]
  },
  {
   "cell_type": "code",
   "execution_count": 1,
   "metadata": {},
   "outputs": [
    {
     "data": {
      "text/html": [
       "<div>\n",
       "<style scoped>\n",
       "    .dataframe tbody tr th:only-of-type {\n",
       "        vertical-align: middle;\n",
       "    }\n",
       "\n",
       "    .dataframe tbody tr th {\n",
       "        vertical-align: top;\n",
       "    }\n",
       "\n",
       "    .dataframe thead th {\n",
       "        text-align: right;\n",
       "    }\n",
       "</style>\n",
       "<table border=\"1\" class=\"dataframe\">\n",
       "  <thead>\n",
       "    <tr style=\"text-align: right;\">\n",
       "      <th></th>\n",
       "      <th>id</th>\n",
       "      <th>sexo</th>\n",
       "      <th>data_entrada</th>\n",
       "      <th>pneumonia</th>\n",
       "      <th>gravidez</th>\n",
       "      <th>diabetes</th>\n",
       "      <th>asma</th>\n",
       "      <th>imunodeficiencia</th>\n",
       "      <th>hipertensão</th>\n",
       "      <th>outra doença</th>\n",
       "      <th>cardiovascular</th>\n",
       "      <th>obesidade</th>\n",
       "      <th>renal_crônico</th>\n",
       "      <th>tabaco</th>\n",
       "      <th>contate outro covid</th>\n",
       "      <th>UTI</th>\n",
       "    </tr>\n",
       "  </thead>\n",
       "  <tbody>\n",
       "    <tr>\n",
       "      <th>0</th>\n",
       "      <td>16169f</td>\n",
       "      <td>2</td>\n",
       "      <td>04/05/2020</td>\n",
       "      <td>2</td>\n",
       "      <td>3</td>\n",
       "      <td>2</td>\n",
       "      <td>2</td>\n",
       "      <td>2</td>\n",
       "      <td>2</td>\n",
       "      <td>2</td>\n",
       "      <td>2</td>\n",
       "      <td>2</td>\n",
       "      <td>2</td>\n",
       "      <td>2</td>\n",
       "      <td>2</td>\n",
       "      <td>3</td>\n",
       "    </tr>\n",
       "    <tr>\n",
       "      <th>1</th>\n",
       "      <td>1009bf</td>\n",
       "      <td>2</td>\n",
       "      <td>19/03/2020</td>\n",
       "      <td>2</td>\n",
       "      <td>3</td>\n",
       "      <td>2</td>\n",
       "      <td>2</td>\n",
       "      <td>2</td>\n",
       "      <td>2</td>\n",
       "      <td>2</td>\n",
       "      <td>2</td>\n",
       "      <td>2</td>\n",
       "      <td>2</td>\n",
       "      <td>2</td>\n",
       "      <td>3</td>\n",
       "      <td>3</td>\n",
       "    </tr>\n",
       "    <tr>\n",
       "      <th>2</th>\n",
       "      <td>167386</td>\n",
       "      <td>1</td>\n",
       "      <td>06/04/2020</td>\n",
       "      <td>2</td>\n",
       "      <td>2</td>\n",
       "      <td>2</td>\n",
       "      <td>2</td>\n",
       "      <td>2</td>\n",
       "      <td>2</td>\n",
       "      <td>2</td>\n",
       "      <td>2</td>\n",
       "      <td>1</td>\n",
       "      <td>2</td>\n",
       "      <td>2</td>\n",
       "      <td>3</td>\n",
       "      <td>2</td>\n",
       "    </tr>\n",
       "    <tr>\n",
       "      <th>3</th>\n",
       "      <td>0b5948</td>\n",
       "      <td>2</td>\n",
       "      <td>17/04/2020</td>\n",
       "      <td>1</td>\n",
       "      <td>3</td>\n",
       "      <td>2</td>\n",
       "      <td>2</td>\n",
       "      <td>2</td>\n",
       "      <td>2</td>\n",
       "      <td>2</td>\n",
       "      <td>2</td>\n",
       "      <td>2</td>\n",
       "      <td>2</td>\n",
       "      <td>2</td>\n",
       "      <td>3</td>\n",
       "      <td>2</td>\n",
       "    </tr>\n",
       "    <tr>\n",
       "      <th>4</th>\n",
       "      <td>0d01b5</td>\n",
       "      <td>1</td>\n",
       "      <td>13/04/2020</td>\n",
       "      <td>2</td>\n",
       "      <td>2</td>\n",
       "      <td>1</td>\n",
       "      <td>2</td>\n",
       "      <td>2</td>\n",
       "      <td>1</td>\n",
       "      <td>2</td>\n",
       "      <td>1</td>\n",
       "      <td>2</td>\n",
       "      <td>2</td>\n",
       "      <td>2</td>\n",
       "      <td>3</td>\n",
       "      <td>2</td>\n",
       "    </tr>\n",
       "    <tr>\n",
       "      <th>...</th>\n",
       "      <td>...</td>\n",
       "      <td>...</td>\n",
       "      <td>...</td>\n",
       "      <td>...</td>\n",
       "      <td>...</td>\n",
       "      <td>...</td>\n",
       "      <td>...</td>\n",
       "      <td>...</td>\n",
       "      <td>...</td>\n",
       "      <td>...</td>\n",
       "      <td>...</td>\n",
       "      <td>...</td>\n",
       "      <td>...</td>\n",
       "      <td>...</td>\n",
       "      <td>...</td>\n",
       "      <td>...</td>\n",
       "    </tr>\n",
       "    <tr>\n",
       "      <th>566597</th>\n",
       "      <td>01ff60</td>\n",
       "      <td>2</td>\n",
       "      <td>13/05/2020</td>\n",
       "      <td>2</td>\n",
       "      <td>3</td>\n",
       "      <td>1</td>\n",
       "      <td>2</td>\n",
       "      <td>2</td>\n",
       "      <td>2</td>\n",
       "      <td>2</td>\n",
       "      <td>2</td>\n",
       "      <td>2</td>\n",
       "      <td>2</td>\n",
       "      <td>2</td>\n",
       "      <td>2</td>\n",
       "      <td>3</td>\n",
       "    </tr>\n",
       "    <tr>\n",
       "      <th>566598</th>\n",
       "      <td>047cd1</td>\n",
       "      <td>1</td>\n",
       "      <td>07/04/2020</td>\n",
       "      <td>2</td>\n",
       "      <td>2</td>\n",
       "      <td>2</td>\n",
       "      <td>2</td>\n",
       "      <td>2</td>\n",
       "      <td>2</td>\n",
       "      <td>2</td>\n",
       "      <td>2</td>\n",
       "      <td>2</td>\n",
       "      <td>2</td>\n",
       "      <td>2</td>\n",
       "      <td>2</td>\n",
       "      <td>3</td>\n",
       "    </tr>\n",
       "    <tr>\n",
       "      <th>566599</th>\n",
       "      <td>1beb81</td>\n",
       "      <td>1</td>\n",
       "      <td>14/05/2020</td>\n",
       "      <td>1</td>\n",
       "      <td>2</td>\n",
       "      <td>2</td>\n",
       "      <td>2</td>\n",
       "      <td>2</td>\n",
       "      <td>2</td>\n",
       "      <td>2</td>\n",
       "      <td>2</td>\n",
       "      <td>1</td>\n",
       "      <td>2</td>\n",
       "      <td>2</td>\n",
       "      <td>3</td>\n",
       "      <td>2</td>\n",
       "    </tr>\n",
       "    <tr>\n",
       "      <th>566600</th>\n",
       "      <td>16fb02</td>\n",
       "      <td>1</td>\n",
       "      <td>31/05/2020</td>\n",
       "      <td>1</td>\n",
       "      <td>2</td>\n",
       "      <td>2</td>\n",
       "      <td>2</td>\n",
       "      <td>2</td>\n",
       "      <td>2</td>\n",
       "      <td>2</td>\n",
       "      <td>2</td>\n",
       "      <td>2</td>\n",
       "      <td>2</td>\n",
       "      <td>2</td>\n",
       "      <td>2</td>\n",
       "      <td>3</td>\n",
       "    </tr>\n",
       "    <tr>\n",
       "      <th>566601</th>\n",
       "      <td>0021c9</td>\n",
       "      <td>2</td>\n",
       "      <td>16/05/2020</td>\n",
       "      <td>1</td>\n",
       "      <td>3</td>\n",
       "      <td>1</td>\n",
       "      <td>2</td>\n",
       "      <td>2</td>\n",
       "      <td>1</td>\n",
       "      <td>2</td>\n",
       "      <td>2</td>\n",
       "      <td>1</td>\n",
       "      <td>2</td>\n",
       "      <td>2</td>\n",
       "      <td>2</td>\n",
       "      <td>3</td>\n",
       "    </tr>\n",
       "  </tbody>\n",
       "</table>\n",
       "<p>566602 rows × 16 columns</p>\n",
       "</div>"
      ],
      "text/plain": [
       "            id  sexo data_entrada  pneumonia  gravidez  diabetes  asma  \\\n",
       "0       16169f     2   04/05/2020          2         3         2     2   \n",
       "1       1009bf     2   19/03/2020          2         3         2     2   \n",
       "2       167386     1   06/04/2020          2         2         2     2   \n",
       "3       0b5948     2   17/04/2020          1         3         2     2   \n",
       "4       0d01b5     1   13/04/2020          2         2         1     2   \n",
       "...        ...   ...          ...        ...       ...       ...   ...   \n",
       "566597  01ff60     2   13/05/2020          2         3         1     2   \n",
       "566598  047cd1     1   07/04/2020          2         2         2     2   \n",
       "566599  1beb81     1   14/05/2020          1         2         2     2   \n",
       "566600  16fb02     1   31/05/2020          1         2         2     2   \n",
       "566601  0021c9     2   16/05/2020          1         3         1     2   \n",
       "\n",
       "        imunodeficiencia  hipertensão  outra doença  cardiovascular  \\\n",
       "0                      2            2             2               2   \n",
       "1                      2            2             2               2   \n",
       "2                      2            2             2               2   \n",
       "3                      2            2             2               2   \n",
       "4                      2            1             2               1   \n",
       "...                  ...          ...           ...             ...   \n",
       "566597                 2            2             2               2   \n",
       "566598                 2            2             2               2   \n",
       "566599                 2            2             2               2   \n",
       "566600                 2            2             2               2   \n",
       "566601                 2            1             2               2   \n",
       "\n",
       "        obesidade  renal_crônico  tabaco  contate outro covid  UTI  \n",
       "0               2              2       2                    2    3  \n",
       "1               2              2       2                    3    3  \n",
       "2               1              2       2                    3    2  \n",
       "3               2              2       2                    3    2  \n",
       "4               2              2       2                    3    2  \n",
       "...           ...            ...     ...                  ...  ...  \n",
       "566597          2              2       2                    2    3  \n",
       "566598          2              2       2                    2    3  \n",
       "566599          1              2       2                    3    2  \n",
       "566600          2              2       2                    2    3  \n",
       "566601          1              2       2                    2    3  \n",
       "\n",
       "[566602 rows x 16 columns]"
      ]
     },
     "execution_count": 1,
     "metadata": {},
     "output_type": "execute_result"
    }
   ],
   "source": [
    "import pandas as pd\n",
    "\n",
    "df = pd.read_csv('../../sources/covid_ml.csv', sep=';', header=0)\n",
    "\n",
    "df"
   ]
  },
  {
   "cell_type": "code",
   "execution_count": 2,
   "metadata": {},
   "outputs": [
    {
     "name": "stdout",
     "output_type": "stream",
     "text": [
      "(28330, 13)\n",
      "(538272, 13)\n",
      "(28330,)\n",
      "(538272,)\n"
     ]
    }
   ],
   "source": [
    "from sklearn.preprocessing import LabelEncoder\n",
    "from sklearn.model_selection import train_test_split\n",
    "\n",
    "data = df.iloc[:,1:14]\n",
    "# print(data)\n",
    "\n",
    "le = LabelEncoder()\n",
    "data['data_entrada'] = le.fit_transform(data['data_entrada'])\n",
    "\n",
    "target = df.iloc[:,-1]\n",
    "# 1 é internado na UTI\n",
    "# 2 é covid sem estar internado\n",
    "# 3 sem covid sem internar\n",
    "# print(target)\n",
    "\n",
    "x_train, x_test, y_train, y_test = train_test_split(data, target, test_size=0.95, random_state=4)\n",
    "\n",
    "print(x_train.shape) # linhas e colunas do dataset\n",
    "print(x_test.shape)\n",
    "\n",
    "print(y_train.shape)\n",
    "print(y_test.shape)"
   ]
  },
  {
   "cell_type": "markdown",
   "metadata": {},
   "source": [
    "## Treinando o modelo"
   ]
  },
  {
   "cell_type": "code",
   "execution_count": 3,
   "metadata": {},
   "outputs": [],
   "source": [
    "from sklearn.neighbors import KNeighborsClassifier\n",
    "from sklearn import metrics\n",
    "\n",
    "k_range = [10, 20]\n",
    "scores_train, scores_test = {}, {}\n",
    "conf_matrix_train, conf_matrix_test = {}, {}\n",
    "scores_train_list, scores_test_list = [], []\n",
    "\n",
    "for k in k_range:\n",
    "    knn = KNeighborsClassifier(n_neighbors = k)\n",
    "    knn.fit(x_train, y_train)\n",
    "\n",
    "    y_pred_train = knn.predict(x_train)\n",
    "    scores_train[k] = metrics.accuracy_score(y_train, y_pred_train)\n",
    "    conf_matrix_train[k] = metrics.confusion_matrix(y_train, y_pred_train)\n",
    "    scores_train_list.append(scores_train[k])\n",
    "\n",
    "    y_pred_test = knn.predict(x_test)\n",
    "    scores_test[k] = metrics.accuracy_score(y_test, y_pred_test)\n",
    "    conf_matrix_test[k] = metrics.confusion_matrix(y_test, y_pred_test)\n",
    "    scores_test_list.append(scores_test[k])"
   ]
  },
  {
   "cell_type": "markdown",
   "metadata": {},
   "source": [
    "## Testando o modelo"
   ]
  },
  {
   "cell_type": "markdown",
   "metadata": {},
   "source": [
    "### Gráfico de acurácia na base de treino por K "
   ]
  },
  {
   "cell_type": "code",
   "execution_count": 4,
   "metadata": {},
   "outputs": [
    {
     "data": {
      "text/plain": [
       "Text(0.5, 1.0, 'Acurácia vs valor de K')"
      ]
     },
     "execution_count": 4,
     "metadata": {},
     "output_type": "execute_result"
    },
    {
     "data": {
      "image/png": "[encoded data removed]",
      "text/plain": [
       "<Figure size 640x480 with 1 Axes>"
      ]
     },
     "metadata": {},
     "output_type": "display_data"
    }
   ],
   "source": [
    "%matplotlib inline\n",
    "import matplotlib.pyplot as plt\n",
    "\n",
    "plt.plot(k_range, scores_train_list)\n",
    "plt.xlabel(\"Valor de K\")\n",
    "plt.ylabel(\"Acurácia\")\n",
    "plt.ylim(0.8,1)\n",
    "plt.title('Acurácia vs valor de K')"
   ]
  },
  {
   "cell_type": "markdown",
   "metadata": {},
   "source": [
    "### Matrizes de confusão por K"
   ]
  },
  {
   "cell_type": "code",
   "execution_count": 5,
   "metadata": {},
   "outputs": [
    {
     "name": "stdout",
     "output_type": "stream",
     "text": [
      "10\n",
      "[[    9   331   160]\n",
      " [   13  2942  2601]\n",
      " [    7   604 21663]]\n",
      "20\n",
      "[[    0   285   215]\n",
      " [    0  2326  3230]\n",
      " [    0   392 21882]]\n"
     ]
    }
   ],
   "source": [
    "\n",
    "for k in conf_matrix_train:\n",
    "    print(k)\n",
    "    print(conf_matrix_train[k])"
   ]
  },
  {
   "cell_type": "markdown",
   "metadata": {},
   "source": [
    "### Gráfico de acurácia na base de teste por K "
   ]
  },
  {
   "cell_type": "code",
   "execution_count": 6,
   "metadata": {},
   "outputs": [
    {
     "data": {
      "text/plain": [
       "Text(0.5, 1.0, 'Acurácia vs valor de K')"
      ]
     },
     "execution_count": 6,
     "metadata": {},
     "output_type": "execute_result"
    },
    {
     "data": {
      "image/png": "[encoded data removed]",
      "text/plain": [
       "<Figure size 640x480 with 1 Axes>"
      ]
     },
     "metadata": {},
     "output_type": "display_data"
    }
   ],
   "source": [
    "%matplotlib inline\n",
    "import matplotlib.pyplot as plt\n",
    "\n",
    "plt.plot(k_range, scores_test_list)\n",
    "plt.xlabel(\"Valor de K\")\n",
    "plt.ylabel(\"Acurácia\")\n",
    "plt.ylim(0.8,1)\n",
    "plt.title('Acurácia vs valor de K')"
   ]
  },
  {
   "cell_type": "markdown",
   "metadata": {},
   "source": [
    "### Matrizes de confusão por K"
   ]
  },
  {
   "cell_type": "code",
   "execution_count": 7,
   "metadata": {},
   "outputs": [
    {
     "name": "stdout",
     "output_type": "stream",
     "text": [
      "10\n",
      "[[    57   6404   3151]\n",
      " [   365  50920  54835]\n",
      " [    96  12699 409745]]\n",
      "20\n",
      "[[     0   5314   4298]\n",
      " [     0  41128  64992]\n",
      " [     0   7796 414744]]\n"
     ]
    }
   ],
   "source": [
    "for k in conf_matrix_test:\n",
    "    print(k)\n",
    "    print(conf_matrix_test[k])"
   ]
  }
 ],
 "metadata": {
  "kernelspec": {
   "display_name": "Python 3",
   "language": "python",
   "name": "python3"
  },
  "language_info": {
   "codemirror_mode": {
    "name": "ipython",
    "version": 3
   },
   "file_extension": ".py",
   "mimetype": "text/x-python",
   "name": "python",
   "nbconvert_exporter": "python",
   "pygments_lexer": "ipython3",
   "version": "3.8.10"
  }
 },
 "nbformat": 4,
 "nbformat_minor": 2
}
