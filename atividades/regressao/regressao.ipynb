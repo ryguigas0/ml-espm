{
 "cells": [
  {
   "cell_type": "markdown",
   "metadata": {},
   "source": [
    "### Dataprep"
   ]
  },
  {
   "cell_type": "markdown",
   "metadata": {},
   "source": [
    "#### Ler o arquivo fonte"
   ]
  },
  {
   "cell_type": "code",
   "execution_count": 99,
   "metadata": {},
   "outputs": [
    {
     "data": {
      "text/html": [
       "<div>\n",
       "<style scoped>\n",
       "    .dataframe tbody tr th:only-of-type {\n",
       "        vertical-align: middle;\n",
       "    }\n",
       "\n",
       "    .dataframe tbody tr th {\n",
       "        vertical-align: top;\n",
       "    }\n",
       "\n",
       "    .dataframe thead th {\n",
       "        text-align: right;\n",
       "    }\n",
       "</style>\n",
       "<table border=\"1\" class=\"dataframe\">\n",
       "  <thead>\n",
       "    <tr style=\"text-align: right;\">\n",
       "      <th></th>\n",
       "      <th>ORGAO</th>\n",
       "      <th>NOME</th>\n",
       "      <th>CATEGORIA</th>\n",
       "      <th>CARGO</th>\n",
       "      <th>FUNCAO</th>\n",
       "      <th>R$SALARIO</th>\n",
       "    </tr>\n",
       "  </thead>\n",
       "  <tbody>\n",
       "    <tr>\n",
       "      <th>0</th>\n",
       "      <td>SECRETARIA DE EDUCACAO</td>\n",
       "      <td>9/16/13</td>\n",
       "      <td>ESTATUTARIO</td>\n",
       "      <td>TECNICO EDUCACIONAL</td>\n",
       "      <td>NaN</td>\n",
       "      <td>R$1902.24</td>\n",
       "    </tr>\n",
       "    <tr>\n",
       "      <th>1</th>\n",
       "      <td>SECRETARIA DE EDUCACAO</td>\n",
       "      <td>GOV. PERNAMBUCO    ****      CONSISTHR      **...</td>\n",
       "      <td>ESTATUTARIO</td>\n",
       "      <td>ASSIST ADMINIST EDUCACIONAL</td>\n",
       "      <td>NaN</td>\n",
       "      <td>R$2667.97</td>\n",
       "    </tr>\n",
       "    <tr>\n",
       "      <th>2</th>\n",
       "      <td>SECRETARIA DE EDUCACAO</td>\n",
       "      <td>ARNEY SPINELI GUIMARAES</td>\n",
       "      <td>ESTATUTARIO</td>\n",
       "      <td>TECNICO EDUCACIONAL</td>\n",
       "      <td>NaN</td>\n",
       "      <td>R$2302.24</td>\n",
       "    </tr>\n",
       "    <tr>\n",
       "      <th>3</th>\n",
       "      <td>SERES - SECRETARIA EXECUTIVA DE RESSOCIALIZACAO</td>\n",
       "      <td>ARNEY SPINELI GUIMARAES</td>\n",
       "      <td>CTD - CONTRATO TEMPO DETERMINADO</td>\n",
       "      <td>PSICOLOGO - CTD</td>\n",
       "      <td>NaN</td>\n",
       "      <td>R$1770</td>\n",
       "    </tr>\n",
       "    <tr>\n",
       "      <th>4</th>\n",
       "      <td>SECRETARIA DE EDUCACAO</td>\n",
       "      <td>ITA DE CASSIA FISCHER DEL PINO</td>\n",
       "      <td>ESTATUTARIO</td>\n",
       "      <td>PROFESSOR</td>\n",
       "      <td>NaN</td>\n",
       "      <td>R$2325.26</td>\n",
       "    </tr>\n",
       "    <tr>\n",
       "      <th>...</th>\n",
       "      <td>...</td>\n",
       "      <td>...</td>\n",
       "      <td>...</td>\n",
       "      <td>...</td>\n",
       "      <td>...</td>\n",
       "      <td>...</td>\n",
       "    </tr>\n",
       "    <tr>\n",
       "      <th>133907</th>\n",
       "      <td>ITERPE - INSTITUTO DE TERRAS E REFORMA AGRARIA...</td>\n",
       "      <td>SIMONE VALERIA DE GUSMAO SANTOS</td>\n",
       "      <td>CTD - CONTRATO TEMPO DETERMINADO</td>\n",
       "      <td>ASSISTENTE ADMINISTRATIVO CTD</td>\n",
       "      <td>NaN</td>\n",
       "      <td>R$1100</td>\n",
       "    </tr>\n",
       "    <tr>\n",
       "      <th>133908</th>\n",
       "      <td>ITERPE - INSTITUTO DE TERRAS E REFORMA AGRARIA...</td>\n",
       "      <td>THAIS SOARES FONSECA</td>\n",
       "      <td>COMISSIONADO</td>\n",
       "      <td>ASSESS SUP AO SEC-ASS NAT TEC</td>\n",
       "      <td>ASSESS SUP AO SEC-ASS NAT TEC</td>\n",
       "      <td>R$4429.61</td>\n",
       "    </tr>\n",
       "    <tr>\n",
       "      <th>133909</th>\n",
       "      <td>ITERPE - INSTITUTO DE TERRAS E REFORMA AGRARIA...</td>\n",
       "      <td>VIVIANE DA SILVA LUCENA PATRIOTA</td>\n",
       "      <td>CTD - CONTRATO TEMPO DETERMINADO</td>\n",
       "      <td>TECNICO NA AREA SOCIAL - CTD</td>\n",
       "      <td>NaN</td>\n",
       "      <td>R$2200</td>\n",
       "    </tr>\n",
       "    <tr>\n",
       "      <th>133910</th>\n",
       "      <td>ITERPE - INSTITUTO DE TERRAS E REFORMA AGRARIA...</td>\n",
       "      <td>WAGNER LEITE DE OLIVEIRA</td>\n",
       "      <td>CTD - CONTRATO TEMPO DETERMINADO</td>\n",
       "      <td>TECNICO AGRICOLA - CTD</td>\n",
       "      <td>NaN</td>\n",
       "      <td>R$1635</td>\n",
       "    </tr>\n",
       "    <tr>\n",
       "      <th>133911</th>\n",
       "      <td>ITERPE - INSTITUTO DE TERRAS E REFORMA AGRARIA...</td>\n",
       "      <td>WANDERSON SIQUEIRA FREIRE LINS</td>\n",
       "      <td>CTD - CONTRATO TEMPO DETERMINADO</td>\n",
       "      <td>ENGENHEIRO AGRONOMO - CTD</td>\n",
       "      <td>NaN</td>\n",
       "      <td>R$4590</td>\n",
       "    </tr>\n",
       "  </tbody>\n",
       "</table>\n",
       "<p>133912 rows × 6 columns</p>\n",
       "</div>"
      ],
      "text/plain": [
       "                                                    ORGAO  \\\n",
       "0                                  SECRETARIA DE EDUCACAO   \n",
       "1                                  SECRETARIA DE EDUCACAO   \n",
       "2                                  SECRETARIA DE EDUCACAO   \n",
       "3         SERES - SECRETARIA EXECUTIVA DE RESSOCIALIZACAO   \n",
       "4                                  SECRETARIA DE EDUCACAO   \n",
       "...                                                   ...   \n",
       "133907  ITERPE - INSTITUTO DE TERRAS E REFORMA AGRARIA...   \n",
       "133908  ITERPE - INSTITUTO DE TERRAS E REFORMA AGRARIA...   \n",
       "133909  ITERPE - INSTITUTO DE TERRAS E REFORMA AGRARIA...   \n",
       "133910  ITERPE - INSTITUTO DE TERRAS E REFORMA AGRARIA...   \n",
       "133911  ITERPE - INSTITUTO DE TERRAS E REFORMA AGRARIA...   \n",
       "\n",
       "                                                     NOME  \\\n",
       "0                                                 9/16/13   \n",
       "1       GOV. PERNAMBUCO    ****      CONSISTHR      **...   \n",
       "2                                 ARNEY SPINELI GUIMARAES   \n",
       "3                                 ARNEY SPINELI GUIMARAES   \n",
       "4                          ITA DE CASSIA FISCHER DEL PINO   \n",
       "...                                                   ...   \n",
       "133907                    SIMONE VALERIA DE GUSMAO SANTOS   \n",
       "133908                               THAIS SOARES FONSECA   \n",
       "133909                   VIVIANE DA SILVA LUCENA PATRIOTA   \n",
       "133910                           WAGNER LEITE DE OLIVEIRA   \n",
       "133911                     WANDERSON SIQUEIRA FREIRE LINS   \n",
       "\n",
       "                               CATEGORIA                          CARGO  \\\n",
       "0                            ESTATUTARIO            TECNICO EDUCACIONAL   \n",
       "1                            ESTATUTARIO    ASSIST ADMINIST EDUCACIONAL   \n",
       "2                            ESTATUTARIO            TECNICO EDUCACIONAL   \n",
       "3       CTD - CONTRATO TEMPO DETERMINADO                PSICOLOGO - CTD   \n",
       "4                            ESTATUTARIO                      PROFESSOR   \n",
       "...                                  ...                            ...   \n",
       "133907  CTD - CONTRATO TEMPO DETERMINADO  ASSISTENTE ADMINISTRATIVO CTD   \n",
       "133908                      COMISSIONADO  ASSESS SUP AO SEC-ASS NAT TEC   \n",
       "133909  CTD - CONTRATO TEMPO DETERMINADO   TECNICO NA AREA SOCIAL - CTD   \n",
       "133910  CTD - CONTRATO TEMPO DETERMINADO         TECNICO AGRICOLA - CTD   \n",
       "133911  CTD - CONTRATO TEMPO DETERMINADO      ENGENHEIRO AGRONOMO - CTD   \n",
       "\n",
       "                               FUNCAO  R$SALARIO  \n",
       "0                                 NaN  R$1902.24  \n",
       "1                                 NaN  R$2667.97  \n",
       "2                                 NaN  R$2302.24  \n",
       "3                                 NaN     R$1770  \n",
       "4                                 NaN  R$2325.26  \n",
       "...                               ...        ...  \n",
       "133907                            NaN     R$1100  \n",
       "133908  ASSESS SUP AO SEC-ASS NAT TEC  R$4429.61  \n",
       "133909                            NaN     R$2200  \n",
       "133910                            NaN     R$1635  \n",
       "133911                            NaN     R$4590  \n",
       "\n",
       "[133912 rows x 6 columns]"
      ]
     },
     "execution_count": 99,
     "metadata": {},
     "output_type": "execute_result"
    }
   ],
   "source": [
    "import pandas as pd\n",
    "\n",
    "## ler o csv bruto\n",
    "df = pd.read_csv('./salarios_recife_outubro_2013.csv', sep=',', header=0)\n",
    "\n",
    "df"
   ]
  },
  {
   "cell_type": "markdown",
   "metadata": {},
   "source": [
    "#### Lidar com nulos"
   ]
  },
  {
   "cell_type": "code",
   "execution_count": 100,
   "metadata": {},
   "outputs": [
    {
     "data": {
      "text/plain": [
       "ORGAO            0\n",
       "NOME             0\n",
       "CATEGORIA        0\n",
       "CARGO            0\n",
       "FUNCAO       91556\n",
       "R$SALARIO        0\n",
       "dtype: int64"
      ]
     },
     "execution_count": 100,
     "metadata": {},
     "output_type": "execute_result"
    }
   ],
   "source": [
    "df.apply(lambda x : sum(x.isnull()), axis=0)"
   ]
  },
  {
   "cell_type": "markdown",
   "metadata": {},
   "source": [
    "A coluna de \"FUNCAO\" possui uma quantidade enorme de nulos (68% das linhas), podendo enviezar o modelo para favorecer salários maiores para funções nulas. Visto que apesar da função de um cargo ser um fator importante para seu salário, não há uma maneira satisfatória de subsistituir os dados nulos portanto decidi remover a coluna completamente"
   ]
  },
  {
   "cell_type": "code",
   "execution_count": 101,
   "metadata": {},
   "outputs": [],
   "source": [
    "df = df.drop('FUNCAO', axis=1)"
   ]
  },
  {
   "cell_type": "markdown",
   "metadata": {},
   "source": [
    "#### Arrumando o valor do salário"
   ]
  },
  {
   "cell_type": "code",
   "execution_count": 102,
   "metadata": {},
   "outputs": [
    {
     "data": {
      "text/plain": [
       "0         1902.24\n",
       "1         2667.97\n",
       "2         2302.24\n",
       "3         1770.00\n",
       "4         2325.26\n",
       "           ...   \n",
       "133907    1100.00\n",
       "133908    4429.61\n",
       "133909    2200.00\n",
       "133910    1635.00\n",
       "133911    4590.00\n",
       "Name: R$SALARIO, Length: 133912, dtype: float64"
      ]
     },
     "execution_count": 102,
     "metadata": {},
     "output_type": "execute_result"
    }
   ],
   "source": [
    "df['R$SALARIO'] = df['R$SALARIO'].apply(lambda x: float(x.split('R$')[1]))\n",
    "\n",
    "df['R$SALARIO']"
   ]
  },
  {
   "cell_type": "markdown",
   "metadata": {},
   "source": [
    "#### Transformar categorias em números"
   ]
  },
  {
   "cell_type": "code",
   "execution_count": 103,
   "metadata": {},
   "outputs": [
    {
     "data": {
      "text/html": [
       "<div>\n",
       "<style scoped>\n",
       "    .dataframe tbody tr th:only-of-type {\n",
       "        vertical-align: middle;\n",
       "    }\n",
       "\n",
       "    .dataframe tbody tr th {\n",
       "        vertical-align: top;\n",
       "    }\n",
       "\n",
       "    .dataframe thead th {\n",
       "        text-align: right;\n",
       "    }\n",
       "</style>\n",
       "<table border=\"1\" class=\"dataframe\">\n",
       "  <thead>\n",
       "    <tr style=\"text-align: right;\">\n",
       "      <th></th>\n",
       "      <th>ORGAO</th>\n",
       "      <th>CATEGORIA</th>\n",
       "      <th>CARGO</th>\n",
       "      <th>R$SALARIO</th>\n",
       "    </tr>\n",
       "  </thead>\n",
       "  <tbody>\n",
       "    <tr>\n",
       "      <th>0</th>\n",
       "      <td>48</td>\n",
       "      <td>4</td>\n",
       "      <td>811</td>\n",
       "      <td>3446</td>\n",
       "    </tr>\n",
       "    <tr>\n",
       "      <th>1</th>\n",
       "      <td>48</td>\n",
       "      <td>4</td>\n",
       "      <td>188</td>\n",
       "      <td>6180</td>\n",
       "    </tr>\n",
       "    <tr>\n",
       "      <th>2</th>\n",
       "      <td>48</td>\n",
       "      <td>4</td>\n",
       "      <td>811</td>\n",
       "      <td>4954</td>\n",
       "    </tr>\n",
       "    <tr>\n",
       "      <th>3</th>\n",
       "      <td>59</td>\n",
       "      <td>3</td>\n",
       "      <td>666</td>\n",
       "      <td>2941</td>\n",
       "    </tr>\n",
       "    <tr>\n",
       "      <th>4</th>\n",
       "      <td>48</td>\n",
       "      <td>4</td>\n",
       "      <td>640</td>\n",
       "      <td>5040</td>\n",
       "    </tr>\n",
       "    <tr>\n",
       "      <th>...</th>\n",
       "      <td>...</td>\n",
       "      <td>...</td>\n",
       "      <td>...</td>\n",
       "      <td>...</td>\n",
       "    </tr>\n",
       "    <tr>\n",
       "      <th>133907</th>\n",
       "      <td>26</td>\n",
       "      <td>3</td>\n",
       "      <td>215</td>\n",
       "      <td>801</td>\n",
       "    </tr>\n",
       "    <tr>\n",
       "      <th>133908</th>\n",
       "      <td>26</td>\n",
       "      <td>1</td>\n",
       "      <td>162</td>\n",
       "      <td>11128</td>\n",
       "    </tr>\n",
       "    <tr>\n",
       "      <th>133909</th>\n",
       "      <td>26</td>\n",
       "      <td>3</td>\n",
       "      <td>840</td>\n",
       "      <td>4566</td>\n",
       "    </tr>\n",
       "    <tr>\n",
       "      <th>133910</th>\n",
       "      <td>26</td>\n",
       "      <td>3</td>\n",
       "      <td>785</td>\n",
       "      <td>2396</td>\n",
       "    </tr>\n",
       "    <tr>\n",
       "      <th>133911</th>\n",
       "      <td>26</td>\n",
       "      <td>3</td>\n",
       "      <td>444</td>\n",
       "      <td>11465</td>\n",
       "    </tr>\n",
       "  </tbody>\n",
       "</table>\n",
       "<p>133912 rows × 4 columns</p>\n",
       "</div>"
      ],
      "text/plain": [
       "        ORGAO  CATEGORIA  CARGO  R$SALARIO\n",
       "0          48          4    811       3446\n",
       "1          48          4    188       6180\n",
       "2          48          4    811       4954\n",
       "3          59          3    666       2941\n",
       "4          48          4    640       5040\n",
       "...       ...        ...    ...        ...\n",
       "133907     26          3    215        801\n",
       "133908     26          1    162      11128\n",
       "133909     26          3    840       4566\n",
       "133910     26          3    785       2396\n",
       "133911     26          3    444      11465\n",
       "\n",
       "[133912 rows x 4 columns]"
      ]
     },
     "execution_count": 103,
     "metadata": {},
     "output_type": "execute_result"
    }
   ],
   "source": [
    "from sklearn.preprocessing import LabelEncoder\n",
    "\n",
    "df = df.drop(axis=1, columns=['NOME']) # o nome é desnecessário para prever o valor de salário\n",
    "\n",
    "le = LabelEncoder()\n",
    "\n",
    "for i in df.columns:\n",
    "    df[i] = le.fit_transform(df[i])\n",
    "\n",
    "df"
   ]
  },
  {
   "cell_type": "markdown",
   "metadata": {},
   "source": [
    "### Treinamento do modelo"
   ]
  },
  {
   "cell_type": "markdown",
   "metadata": {},
   "source": [
    "#### Separando os dados"
   ]
  },
  {
   "cell_type": "code",
   "execution_count": 104,
   "metadata": {},
   "outputs": [],
   "source": [
    "df_vars_indep = df.drop('R$SALARIO', axis=1)\n",
    "\n",
    "df_alvo = df[['R$SALARIO']]\n",
    "\n",
    "from sklearn.model_selection import train_test_split\n",
    "\n",
    "vars_train, vars_test, res_train, res_test = train_test_split(df_vars_indep, df_alvo, test_size=0.3, random_state=777)"
   ]
  },
  {
   "cell_type": "markdown",
   "metadata": {},
   "source": [
    "#### Treinando o modelo"
   ]
  },
  {
   "cell_type": "code",
   "execution_count": 105,
   "metadata": {},
   "outputs": [
    {
     "data": {
      "text/plain": [
       "array([[7579.92744363],\n",
       "       [4942.30059671],\n",
       "       [5382.65727362],\n",
       "       ...,\n",
       "       [7578.44169842],\n",
       "       [7578.44169842],\n",
       "       [5443.70789483]])"
      ]
     },
     "execution_count": 105,
     "metadata": {},
     "output_type": "execute_result"
    }
   ],
   "source": [
    "from sklearn.linear_model import LinearRegression\n",
    "\n",
    "model = LinearRegression().fit(vars_train, res_train)\n",
    "\n",
    "res_prev = model.predict(vars_train) # previsões geradas\n",
    "\n",
    "res_prev"
   ]
  },
  {
   "cell_type": "markdown",
   "metadata": {},
   "source": [
    "#### Medindo performance do modelo"
   ]
  },
  {
   "cell_type": "markdown",
   "metadata": {},
   "source": [
    "##### Usando dados de treino"
   ]
  },
  {
   "cell_type": "code",
   "execution_count": 106,
   "metadata": {},
   "outputs": [
    {
     "name": "stdout",
     "output_type": "stream",
     "text": [
      "3686.0355633646896\n",
      "20447558.21201492\n",
      "R$SALARIO    0.643064\n",
      "dtype: float64\n"
     ]
    }
   ],
   "source": [
    "from sklearn.metrics import mean_absolute_error, mean_squared_error, confusion_matrix\n",
    "\n",
    "predict_train = model.predict(vars_train)\n",
    "\n",
    "print(mean_absolute_error(res_train, predict_train)) # medir a média de erro de variável contínua \n",
    "print(mean_squared_error(res_train, predict_train)) # grau de intensidade do erro\n",
    "print(mean_absolute_error(res_train, predict_train) / res_train.mean()) # percent de diferença da média do real com o da previsão"
   ]
  },
  {
   "cell_type": "markdown",
   "metadata": {},
   "source": [
    "##### Usando dados de teste"
   ]
  },
  {
   "cell_type": "code",
   "execution_count": 107,
   "metadata": {},
   "outputs": [
    {
     "name": "stdout",
     "output_type": "stream",
     "text": [
      "3681.0507800815776\n",
      "20366294.174415722\n",
      "R$SALARIO    0.642768\n",
      "dtype: float64\n"
     ]
    }
   ],
   "source": [
    "predict_test = model.predict(vars_test)\n",
    "\n",
    "print(mean_absolute_error(res_test, predict_test))\n",
    "print(mean_squared_error(res_test, predict_test))\n",
    "print(mean_absolute_error(res_test, predict_test) / res_test.mean())"
   ]
  },
  {
   "cell_type": "markdown",
   "metadata": {},
   "source": [
    "### Conclusão"
   ]
  },
  {
   "cell_type": "markdown",
   "metadata": {},
   "source": [
    "O modelo consegue previer com 64% de precisão, erra em média cerca de R$3681.05. O modelo poderia se tornar mais preciso se fossem fornecidos dados completos da função de cada cargo"
   ]
  }
 ],
 "metadata": {
  "kernelspec": {
   "display_name": "Python 3",
   "language": "python",
   "name": "python3"
  },
  "language_info": {
   "codemirror_mode": {
    "name": "ipython",
    "version": 3
   },
   "file_extension": ".py",
   "mimetype": "text/x-python",
   "name": "python",
   "nbconvert_exporter": "python",
   "pygments_lexer": "ipython3",
   "version": "3.8.10"
  }
 },
 "nbformat": 4,
 "nbformat_minor": 2
}
